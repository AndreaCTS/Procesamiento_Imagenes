{
 "cells": [
  {
   "cell_type": "code",
   "execution_count": 3,
   "metadata": {},
   "outputs": [],
   "source": [
    "import cv2 as cv\n",
    "import numpy as np\n",
    "import pandas as pd\n",
    "\n",
    "img = cv.imread('Photos/mdb100.pgm')\n",
    "img2 = cv.imread('Photos/cat.jpg')\n",
    "img3 = cv.imread('Photos/mdb001.pgm')\n",
    "\n"
   ]
  },
  {
   "cell_type": "code",
   "execution_count": 4,
   "metadata": {},
   "outputs": [
    {
     "name": "stderr",
     "output_type": "stream",
     "text": [
      "C:\\Users\\Andrea Terraza\\AppData\\Local\\Temp\\ipykernel_8708\\2023865663.py:7: FutureWarning: The frame.append method is deprecated and will be removed from pandas in a future version. Use pandas.concat instead.\n",
      "  df = df.append(df2,ignore_index = True)\n"
     ]
    },
    {
     "name": "stdout",
     "output_type": "stream",
     "text": [
      "<bound method DataFrame.info of                                                  img\n",
      "0  [[[0, 0, 0], [0, 0, 0], [0, 0, 0], [0, 0, 0], ...\n",
      "1  [[[0, 0, 0], [0, 0, 0], [0, 0, 0], [0, 0, 0], ...>\n"
     ]
    }
   ],
   "source": [
    "df = pd.DataFrame()\n",
    "df['img'] = [img] # Wrap image in python list\n",
    "\n",
    "# Add another row using the \"dictionary way\"\n",
    "d2 = {'img': [img3]}\n",
    "df2 = pd.DataFrame.from_records(d2)\n",
    "df = df.append(df2,ignore_index = True)\n",
    "print(df.info)"
   ]
  }
 ],
 "metadata": {
  "kernelspec": {
   "display_name": "Python 3.10.6 64-bit",
   "language": "python",
   "name": "python3"
  },
  "language_info": {
   "codemirror_mode": {
    "name": "ipython",
    "version": 3
   },
   "file_extension": ".py",
   "mimetype": "text/x-python",
   "name": "python",
   "nbconvert_exporter": "python",
   "pygments_lexer": "ipython3",
   "version": "3.10.6"
  },
  "orig_nbformat": 4,
  "vscode": {
   "interpreter": {
    "hash": "862615c194cf1c1769bdb95a823b4841506efec616cdc3aaaf8390590d1f212d"
   }
  }
 },
 "nbformat": 4,
 "nbformat_minor": 2
}
